{
 "cells": [
  {
   "cell_type": "code",
   "execution_count": 1,
   "metadata": {},
   "outputs": [
    {
     "name": "stdout",
     "output_type": "stream",
     "text": [
      "pygame 2.1.2 (SDL 2.0.18, Python 3.9.7)\n",
      "Hello from the pygame community. https://www.pygame.org/contribute.html\n"
     ]
    }
   ],
   "source": [
    "# import libs\n",
    "import speech_recognition as sr\n",
    "from pygame import mixer\n",
    "import os"
   ]
  },
  {
   "cell_type": "code",
   "execution_count": 2,
   "metadata": {},
   "outputs": [],
   "source": [
    "# audio file source\n",
    "audio_dir = 'C:/Users/Admin/Desktop/audio'"
   ]
  },
  {
   "cell_type": "code",
   "execution_count": 3,
   "metadata": {},
   "outputs": [],
   "source": [
    "class MusicPlayer:\n",
    "    def __init__(self, audio_dir_path):\n",
    "        self.current_playing_music = None\n",
    "        self.current_playing_music_idx = -1\n",
    "        self.audio_path = audio_dir_path\n",
    "        self.audio_list = [file for file in os.listdir(audio_dir_path)]\n",
    "        mixer.init()\n",
    "\n",
    "    def play(self):\n",
    "        self.current_playing_music = self.audio_list[self.current_playing_music_idx]\n",
    "        mixer.music.load(os.path.join(self.audio_path, self.current_playing_music))\n",
    "        mixer.music.play()\n",
    "\n",
    "    def start(self):\n",
    "        self.current_playing_music_idx = 0\n",
    "        self.play()\n",
    "        return self.current_playing_music\n",
    "\n",
    "    def stop(self):\n",
    "        self.current_playing_music_idx = -1\n",
    "        self.current_playing_music = None\n",
    "        mixer.music.stop()\n",
    "\n",
    "    def next(self):\n",
    "        self.current_playing_music_idx = (self.current_playing_music_idx + 1) % len(self.audio_list)\n",
    "        self.play()\n",
    "        return self.current_playing_music\n",
    "\n",
    "    def prev(self):\n",
    "        self.current_playing_music_idx = (self.current_playing_music_idx - 1) % len(self.audio_list)\n",
    "        self.play()\n",
    "        return self.current_playing_music"
   ]
  },
  {
   "cell_type": "code",
   "execution_count": 4,
   "metadata": {},
   "outputs": [],
   "source": [
    "# create speech recognizer\n",
    "reg = sr.Recognizer()"
   ]
  },
  {
   "cell_type": "code",
   "execution_count": null,
   "metadata": {},
   "outputs": [],
   "source": [
    "music_player = MusicPlayer(audio_dir_path=audio_dir)\n",
    "\n",
    "with sr.Microphone() as mic:\n",
    "    while True:\n",
    "        audio = reg.listen(mic)\n",
    "        try:\n",
    "            text = reg.recognize_google(audio)\n",
    "            if text == 'play music':\n",
    "                music_player.start()\n",
    "            if text == 'next music':\n",
    "                music_player.next()\n",
    "            if text == 'previous music':\n",
    "                music_player.prev()\n",
    "            if text == 'stop music':\n",
    "                music_player.stop()\n",
    "                break\n",
    "        except:\n",
    "            print('Sorry i don\\'t understand')\n"
   ]
  }
 ],
 "metadata": {
  "interpreter": {
   "hash": "ec7e58b3a9bb02cd090814cef287ec8aadd79361ec07b9179adbce85ffc378b8"
  },
  "kernelspec": {
   "display_name": "Python 3.9.7 ('pytorch')",
   "language": "python",
   "name": "python3"
  },
  "language_info": {
   "codemirror_mode": {
    "name": "ipython",
    "version": 3
   },
   "file_extension": ".py",
   "mimetype": "text/x-python",
   "name": "python",
   "nbconvert_exporter": "python",
   "pygments_lexer": "ipython3",
   "version": "3.9.7"
  },
  "orig_nbformat": 4
 },
 "nbformat": 4,
 "nbformat_minor": 2
}
